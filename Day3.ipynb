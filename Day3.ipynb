{
 "cells": [
  {
   "cell_type": "markdown",
   "id": "3be2294e",
   "metadata": {},
   "source": [
    "# List\n",
    "\n"
   ]
  },
  {
   "cell_type": "markdown",
   "id": "9759cf08",
   "metadata": {},
   "source": [
    "#### It is used to store multiple itmes in a single variable.\n",
    "#### It is mutable, elements can be added or removed from the original list.\n",
    "#### It contain elements of different types."
   ]
  },
  {
   "cell_type": "code",
   "execution_count": 2,
   "id": "4ed61bfb",
   "metadata": {},
   "outputs": [],
   "source": [
    "li_1=[1,2]\n",
    "li_2=['abc','xyz']\n",
    "li_3=[100,'@',200,'$']"
   ]
  },
  {
   "cell_type": "code",
   "execution_count": 4,
   "id": "c0401281",
   "metadata": {},
   "outputs": [
    {
     "name": "stdout",
     "output_type": "stream",
     "text": [
      "[1, 2]\n",
      "['abc', 'xyz']\n",
      "[100, '@', 200, '$']\n"
     ]
    }
   ],
   "source": [
    "print(li_1)\n",
    "print(li_2)\n",
    "print(li_3)"
   ]
  },
  {
   "cell_type": "markdown",
   "id": "8903e87c",
   "metadata": {},
   "source": [
    "## Accessing and updating list items \n",
    "\n",
    "#### List items are accessed and updated using index numbers\n",
    "#### Index starts from 0"
   ]
  },
  {
   "cell_type": "code",
   "execution_count": 6,
   "id": "24435741",
   "metadata": {},
   "outputs": [
    {
     "name": "stdout",
     "output_type": "stream",
     "text": [
      "Russia\n"
     ]
    }
   ],
   "source": [
    "mylist=['India','Japan','Russia']\n",
    "print(mylist[2])"
   ]
  },
  {
   "cell_type": "code",
   "execution_count": 7,
   "id": "32cc0cfd",
   "metadata": {},
   "outputs": [
    {
     "name": "stdout",
     "output_type": "stream",
     "text": [
      "['India', 'Japan', 'France']\n"
     ]
    }
   ],
   "source": [
    "mylist[2]='France'\n",
    "print(mylist)"
   ]
  },
  {
   "cell_type": "code",
   "execution_count": 8,
   "id": "d95666ef",
   "metadata": {},
   "outputs": [
    {
     "data": {
      "text/plain": [
       "['India', 'Japan', 'France']"
      ]
     },
     "execution_count": 8,
     "metadata": {},
     "output_type": "execute_result"
    }
   ],
   "source": [
    "mylist"
   ]
  },
  {
   "cell_type": "code",
   "execution_count": 9,
   "id": "36c9d5e7",
   "metadata": {},
   "outputs": [
    {
     "name": "stdout",
     "output_type": "stream",
     "text": [
      "France\n"
     ]
    }
   ],
   "source": [
    "print(mylist[-1])"
   ]
  },
  {
   "cell_type": "code",
   "execution_count": 10,
   "id": "9cfd4c99",
   "metadata": {},
   "outputs": [
    {
     "data": {
      "text/plain": [
       "'India'"
      ]
     },
     "execution_count": 10,
     "metadata": {},
     "output_type": "execute_result"
    }
   ],
   "source": [
    "mylist[-3]"
   ]
  },
  {
   "cell_type": "markdown",
   "id": "7437deb8",
   "metadata": {},
   "source": [
    "## Slicing"
   ]
  },
  {
   "cell_type": "markdown",
   "id": "888a5260",
   "metadata": {},
   "source": [
    "#### We can extract a set of items from a list by mentioning the start and end indexes\n",
    "\n"
   ]
  },
  {
   "cell_type": "code",
   "execution_count": 12,
   "id": "439446b2",
   "metadata": {},
   "outputs": [
    {
     "name": "stdout",
     "output_type": "stream",
     "text": [
      "('India', 'France', 'Israil', 'Russia')\n"
     ]
    }
   ],
   "source": [
    "mylist='India','France','Israil','Russia','London'\n",
    "print(mylist[0:4])"
   ]
  },
  {
   "cell_type": "code",
   "execution_count": 13,
   "id": "995243a2",
   "metadata": {},
   "outputs": [
    {
     "name": "stdout",
     "output_type": "stream",
     "text": [
      "('France', 'Israil', 'Russia')\n"
     ]
    }
   ],
   "source": [
    "print(mylist[-4:-1])"
   ]
  },
  {
   "cell_type": "markdown",
   "id": "61dd966a",
   "metadata": {},
   "source": [
    "### Add,Delete,Remove,Clear operations"
   ]
  },
  {
   "cell_type": "code",
   "execution_count": 15,
   "id": "10b4acf6",
   "metadata": {},
   "outputs": [
    {
     "data": {
      "text/plain": [
       "['A', 'B', 'C', 'D']"
      ]
     },
     "execution_count": 15,
     "metadata": {},
     "output_type": "execute_result"
    }
   ],
   "source": [
    "mylist=['A','B','C']\n",
    "mylist.append('D')\n",
    "mylist"
   ]
  },
  {
   "cell_type": "code",
   "execution_count": 16,
   "id": "9c314c6c",
   "metadata": {},
   "outputs": [
    {
     "data": {
      "text/plain": [
       "['A', 'B', 'C']"
      ]
     },
     "execution_count": 16,
     "metadata": {},
     "output_type": "execute_result"
    }
   ],
   "source": [
    "del mylist[-1]\n",
    "mylist"
   ]
  },
  {
   "cell_type": "code",
   "execution_count": 20,
   "id": "0f08c0ea",
   "metadata": {},
   "outputs": [],
   "source": [
    "mylist.clear()\n"
   ]
  },
  {
   "cell_type": "code",
   "execution_count": 21,
   "id": "374817a4",
   "metadata": {},
   "outputs": [
    {
     "data": {
      "text/plain": [
       "[]"
      ]
     },
     "execution_count": 21,
     "metadata": {},
     "output_type": "execute_result"
    }
   ],
   "source": [
    "mylist"
   ]
  },
  {
   "cell_type": "code",
   "execution_count": 22,
   "id": "9f4fa794",
   "metadata": {},
   "outputs": [],
   "source": [
    "del mylist"
   ]
  },
  {
   "cell_type": "code",
   "execution_count": 23,
   "id": "becfffe6",
   "metadata": {},
   "outputs": [],
   "source": [
    "mylist1=['r','a','s','p']"
   ]
  },
  {
   "cell_type": "code",
   "execution_count": 26,
   "id": "3ee4bc33",
   "metadata": {},
   "outputs": [],
   "source": [
    "mylist1.reverse()"
   ]
  },
  {
   "cell_type": "code",
   "execution_count": 27,
   "id": "df55dd83",
   "metadata": {},
   "outputs": [
    {
     "data": {
      "text/plain": [
       "['p', 's', 'a', 'r']"
      ]
     },
     "execution_count": 27,
     "metadata": {},
     "output_type": "execute_result"
    }
   ],
   "source": [
    "mylist1"
   ]
  },
  {
   "cell_type": "code",
   "execution_count": 28,
   "id": "bcb3bdac",
   "metadata": {},
   "outputs": [
    {
     "data": {
      "text/plain": [
       "['p', 's', 'a']"
      ]
     },
     "execution_count": 28,
     "metadata": {},
     "output_type": "execute_result"
    }
   ],
   "source": [
    "mylist1.pop()\n",
    "mylist1"
   ]
  },
  {
   "cell_type": "code",
   "execution_count": 29,
   "id": "53492e93",
   "metadata": {},
   "outputs": [],
   "source": [
    "mylist1.sort()"
   ]
  },
  {
   "cell_type": "code",
   "execution_count": 30,
   "id": "7e1300f2",
   "metadata": {},
   "outputs": [
    {
     "data": {
      "text/plain": [
       "['a', 'p', 's']"
      ]
     },
     "execution_count": 30,
     "metadata": {},
     "output_type": "execute_result"
    }
   ],
   "source": [
    "mylist1"
   ]
  },
  {
   "cell_type": "code",
   "execution_count": 31,
   "id": "f8d81d34",
   "metadata": {},
   "outputs": [
    {
     "data": {
      "text/plain": [
       "101"
      ]
     },
     "execution_count": 31,
     "metadata": {},
     "output_type": "execute_result"
    }
   ],
   "source": [
    "mylist2=[1,2,3,4,5,6,7,8,9,11,13,15,17]\n",
    "sum(mylist2)"
   ]
  },
  {
   "cell_type": "code",
   "execution_count": 32,
   "id": "aad24941",
   "metadata": {},
   "outputs": [
    {
     "data": {
      "text/plain": [
       "17"
      ]
     },
     "execution_count": 32,
     "metadata": {},
     "output_type": "execute_result"
    }
   ],
   "source": [
    "max(mylist2)"
   ]
  },
  {
   "cell_type": "code",
   "execution_count": 33,
   "id": "dd00e882",
   "metadata": {},
   "outputs": [
    {
     "data": {
      "text/plain": [
       "1"
      ]
     },
     "execution_count": 33,
     "metadata": {},
     "output_type": "execute_result"
    }
   ],
   "source": [
    "min(mylist2)"
   ]
  },
  {
   "cell_type": "markdown",
   "id": "51bb1853",
   "metadata": {},
   "source": [
    "## For Loop in List"
   ]
  },
  {
   "cell_type": "code",
   "execution_count": 34,
   "id": "a5d53862",
   "metadata": {},
   "outputs": [
    {
     "name": "stdout",
     "output_type": "stream",
     "text": [
      "India\n",
      "Russia\n",
      "Israil\n",
      "France\n"
     ]
    }
   ],
   "source": [
    "mylist=['India','Russia','Israil','France']\n",
    "for item in mylist:\n",
    "    print(item)"
   ]
  },
  {
   "cell_type": "code",
   "execution_count": 35,
   "id": "435bed09",
   "metadata": {},
   "outputs": [
    {
     "data": {
      "text/plain": [
       "['India', 'Russia', 'Israil', 'France']"
      ]
     },
     "execution_count": 35,
     "metadata": {},
     "output_type": "execute_result"
    }
   ],
   "source": [
    "### In keyword with list\n",
    "\n",
    "mylist"
   ]
  },
  {
   "cell_type": "code",
   "execution_count": 37,
   "id": "597b7495",
   "metadata": {},
   "outputs": [
    {
     "name": "stdout",
     "output_type": "stream",
     "text": [
      "It is not Present\n"
     ]
    }
   ],
   "source": [
    "if 'canada' in mylist:\n",
    "    print(\"It is present\")\n",
    "else:\n",
    "    print(\"It is not Present\")"
   ]
  },
  {
   "cell_type": "code",
   "execution_count": null,
   "id": "daac8deb",
   "metadata": {},
   "outputs": [],
   "source": []
  }
 ],
 "metadata": {
  "kernelspec": {
   "display_name": "Python 3 (ipykernel)",
   "language": "python",
   "name": "python3"
  },
  "language_info": {
   "codemirror_mode": {
    "name": "ipython",
    "version": 3
   },
   "file_extension": ".py",
   "mimetype": "text/x-python",
   "name": "python",
   "nbconvert_exporter": "python",
   "pygments_lexer": "ipython3",
   "version": "3.9.7"
  }
 },
 "nbformat": 4,
 "nbformat_minor": 5
}
